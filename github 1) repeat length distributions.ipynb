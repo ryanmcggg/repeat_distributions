{
 "cells": [
  {
   "cell_type": "markdown",
   "id": "87d3dc6a-1715-4063-8afd-8bd43f4254c1",
   "metadata": {},
   "source": [
    "## Load Python libraries and define functions\n",
    "- Links included for instructions on how to install libraries using pip or conda (if libraries not included with conda)"
   ]
  },
  {
   "cell_type": "code",
   "execution_count": null,
   "id": "c7d2a275-c34c-4249-a230-ac95de1d4c39",
   "metadata": {},
   "outputs": [],
   "source": [
    "from Bio.SeqIO.FastaIO import SimpleFastaParser\n",
    "from Bio.SeqRecord import SeqRecord\n",
    "\n",
    "import pandas as pd\n",
    "import numpy as np\n",
    "import os\n",
    "import random\n",
    "import pickle\n",
    "import gzip\n",
    "import re\n",
    "import fastapy    # https://github.com/aziele/fastapy\n",
    "\n",
    "import kaleido    # https://github.com/plotly/Kaleido    # for image export: conda install python-kaleido==0.1.0\n",
    "import plotly     # https://plotly.com/python/getting-started/\n",
    "import plotly.graph_objects as go\n",
    "from plotly.subplots import make_subplots\n",
    "import plotly.io as pio\n",
    "pio.templates.default = \"none\""
   ]
  },
  {
   "cell_type": "code",
   "execution_count": null,
   "id": "9755a1e3-2714-4f0f-82e1-13cb431615c9",
   "metadata": {},
   "outputs": [],
   "source": [
    "bases = ['A', 'T', 'G', 'C']\n",
    "def reverse_complement(dna):\n",
    "    complement = {'A': 'T', 'C': 'G', 'G': 'C', 'T': 'A', 'N': 'N'}\n",
    "    return ''.join([complement[base] for base in dna[::-1]]) \n",
    "def repeat_frames_RC(input_seq):\n",
    "    return list(pd.Series([''.join(input_seq*2)[i:len(input_seq)+i] for i in range(len(input_seq))] + [reverse_complement(seq) for seq in [''.join(input_seq*2)[i:len(input_seq)+i] for i in range(len(input_seq))]]).sort_values().drop_duplicates())"
   ]
  },
  {
   "cell_type": "markdown",
   "id": "f54dfb9b-e11c-4484-ba9d-5653ea5e447e",
   "metadata": {},
   "source": [
    "## Generate repeat length distributions"
   ]
  },
  {
   "cell_type": "code",
   "execution_count": null,
   "id": "8e1e8878-5dd9-4a54-b9c0-02da88891a0e",
   "metadata": {},
   "outputs": [],
   "source": [
    "repeats_1_4 = ['A', 'C', 'AC', 'AT', 'AG', 'CG', 'AAT', 'AAG', 'AAC', 'ATC', 'ACT', 'AGG', 'AGC', 'ACG', 'ACC', 'CCG', 'AAAT', 'AAAG', 'AAAC', 'AATG', 'AATC', 'AAGT', 'AAGG', 'AAGC', 'AACT', 'AACG', 'AACC', 'AGAT', 'ACAT', 'ATCC', 'ACAG', 'ACTC', 'ACTG', 'ACCT', 'AGGG', 'AGGC', 'AGCC', 'ACGG', 'ACGC', 'ACCG', 'ACCC', 'AGCG', 'CCCG', 'AATT', 'ATGC', 'ATCG', 'AGCT', 'ACGT', 'CCGG']"
   ]
  },
  {
   "cell_type": "code",
   "execution_count": null,
   "id": "7bef22c9-841f-49e4-8d79-192184f3c91f",
   "metadata": {},
   "outputs": [],
   "source": [
    "def count_all_repeats_per_seq(input_seq, repeat_list = repeats_1_4):    \n",
    "    input_seq = input_seq.upper()\n",
    "    unit_lengths = list(set([len(rep) for rep in repeat_list]))\n",
    "    seq_series = dict()\n",
    "    if 1 in unit_lengths:\n",
    "        seq_series[1] = pd.Series(range(len(input_seq)), list(input_seq))\n",
    "    unit_lengths = [rep for rep in unit_lengths if rep != 1]\n",
    "    if len(unit_lengths) > 0:\n",
    "        for unit in unit_lengths:\n",
    "            seq = re.findall('.'*unit, input_seq); seq_series[unit] = pd.Series(range(len(seq)), index = seq)\n",
    "    counts = dict(); counts['A'] = dict(); counts['B'] = dict()\n",
    "    counter = 0\n",
    "    for repeat in repeat_list:\n",
    "        counts['A'][repeat] = dict(); counts['B'][repeat] = dict()\n",
    "        for motif in repeat_frames_RC(repeat):\n",
    "            counter +=1\n",
    "            print('\\r' + str(counter)+'/'+str(pd.Series([len(repeat_frames_RC(repeat)) for repeat in repeat_list]).sum())+': '+motif, end = '    ')\n",
    "            if motif in seq_series[len(motif)].index:\n",
    "                try:\n",
    "                    rep_pos_index = seq_series[len(motif)].loc[motif].values\n",
    "                    pos_list = pd.DataFrame(rep_pos_index[np.where(rep_pos_index != np.roll(rep_pos_index, 1) +1)[0]], columns = ['start'])\n",
    "                    pos_list['end'] = rep_pos_index[np.where(rep_pos_index != np.roll(rep_pos_index, -1) -1)[0]]\n",
    "                    pos_list['length'] = pos_list['end'] - pos_list['start'] + 1\n",
    "                    counts['A'][repeat][motif] = pos_list['length'].value_counts()\n",
    "                    pos_list['length_B'] = pos_list['start'] - (pos_list['end'].shift(1).fillna(-1).astype(int) +1)\n",
    "                    counts['B'][repeat][motif] = pos_list['length_B'].value_counts()\n",
    "                except Exception:\n",
    "                    pass\n",
    "        try: # Combine all variants of a motif into a single count\n",
    "            counts['A'][repeat] = pd.concat(counts['A'][repeat], axis=1).sum(axis=1)\n",
    "        except Exception:\n",
    "            del counts['A'][repeat]    \n",
    "        try:\n",
    "            counts['B'][repeat] = pd.concat(counts['B'][repeat], axis=1).sum(axis=1)\n",
    "        except Exception:\n",
    "            del counts['B'][repeat]   \n",
    "    counts['A'] = pd.concat(counts['A'], axis=1)\n",
    "    counts['B'] = pd.concat(counts['B'], axis=1)\n",
    "    counts = pd.concat(counts, axis=1)\n",
    "    return counts.fillna(0)"
   ]
  },
  {
   "cell_type": "code",
   "execution_count": null,
   "id": "71ebc1d4-40d3-412e-b54c-1232753fa7bd",
   "metadata": {},
   "outputs": [],
   "source": [
    "def count_genome(genome_file, genomes_path = 'genomes/', output_path = 'repeat_distributions/', output_name = False, repeat_list = repeats_1_4, shuffle = False):\n",
    "    genome_counts = dict(); genome_counts_sub10k = dict()\n",
    "    if output_name == False:\n",
    "        output_name = genome_file[:-3]\n",
    "    records = list(fastapy.parse(genomes_path+genome_file))\n",
    "    record_len = pd.Series([len(rec) for rec in records])\n",
    "    complete_nt = 0; record_sum = record_len.sum()\n",
    "    short_records = pd.Series(records).reindex(record_len.loc[record_len < 10000].index)\n",
    "    records = pd.Series(records).reindex(record_len.loc[record_len >= 10000].index).to_list()\n",
    "    for record in records:\n",
    "        current_record = record.seq\n",
    "        if shuffle == True:\n",
    "            current_record = ''.join(random.sample(current_record, len(current_record)))            \n",
    "        genome_counts[record.id] = count_all_repeats_per_seq(current_record, repeat_list = repeat_list)\n",
    "        complete_nt += len(record)\n",
    "        print('\\r' + '                     finished ' + str(round((complete_nt* 100)/record_sum, 2))+ '%', end = '         ')\n",
    "    if len(short_records) > 0:\n",
    "        short_seq = 'N'.join([seq.seq for seq in short_records]).upper()\n",
    "        genome_counts_sub10k = count_all_repeats_per_seq(short_seq, repeat_list = repeat_list)\n",
    "        complete_nt += len(short_seq)\n",
    "        print('\\r' + '                     finished ' + str(round((complete_nt* 100)/record_sum, 2))+ '%', end = '         ')\n",
    "    genome_counts = pd.concat(genome_counts).groupby(level=[1]).sum()\n",
    "    if len(genome_counts_sub10k) > 0:\n",
    "        genome_counts_all = dict()\n",
    "        genome_counts_all['long'] = genome_counts\n",
    "        genome_counts_all['short'] = genome_counts_sub10k\n",
    "        genome_counts_all = pd.concat(genome_counts_all)\n",
    "        genome_counts_all.to_pickle(output_path+output_name+'.pickle')\n",
    "    else:\n",
    "        genome_counts.to_pickle(output_path+output_name+'.pickle')"
   ]
  },
  {
   "cell_type": "markdown",
   "id": "a41f35ff-ced6-4beb-91d7-f833b72edbd8",
   "metadata": {},
   "source": [
    "#### T2T-CHM13 genome\n",
    "- T2T v2.0\n",
    "- download \"hs1.fa.gz\" from http://hgdownload.soe.ucsc.edu/goldenPath/hs1/bigZips/\n",
    "- also available from https://www.ncbi.nlm.nih.gov/datasets/genome/GCF_009914755.1/"
   ]
  },
  {
   "cell_type": "code",
   "execution_count": null,
   "id": "95ed317b-01f3-40be-8f5f-6bbc97835828",
   "metadata": {},
   "outputs": [],
   "source": [
    "count_genome('hs1.fa.gz', output_name = 'CHM13_counts')"
   ]
  },
  {
   "cell_type": "code",
   "execution_count": null,
   "id": "7d45755a-b857-46ea-a196-8f2a42e3390d",
   "metadata": {},
   "outputs": [],
   "source": [
    "# shuffled genome distribution\n",
    "count_genome('hs1.fa.gz', output_name = 'random_counts', shuffle = True)"
   ]
  },
  {
   "cell_type": "markdown",
   "id": "2693ff63-cf02-438d-8178-95eb20c7ba3f",
   "metadata": {},
   "source": [
    "### CHM13 repeat length distribution plots"
   ]
  },
  {
   "cell_type": "code",
   "execution_count": null,
   "id": "1f034aba-de5c-4a3e-8b8d-07279afd3b7b",
   "metadata": {},
   "outputs": [],
   "source": [
    "CHM13_counts = pd.read_pickle('repeat_distributions/CHM13_counts.pickle').sort_index()\n",
    "random_counts = pd.read_pickle('repeat_distributions/random_counts.pickle').sort_index()"
   ]
  },
  {
   "cell_type": "code",
   "execution_count": null,
   "id": "03f80f2b-1def-47dc-a36f-134a563983aa",
   "metadata": {},
   "outputs": [],
   "source": [
    "counts_by_unit_length = dict()\n",
    "for i in range(1,5):\n",
    "    counts_by_unit_length[i] = dict()\n",
    "for motif in CHM13_counts['A'].columns[:-1]:\n",
    "    counts_by_unit_length[len(motif)][motif] = CHM13_counts['A'][motif]\n",
    "for i in range(1,5):\n",
    "    counts_by_unit_length[i] = pd.concat(counts_by_unit_length[i], axis=1)\n",
    "    counts_by_unit_length[i]['all'] = counts_by_unit_length[i].sum(axis=1)"
   ]
  },
  {
   "cell_type": "code",
   "execution_count": null,
   "id": "b724eb51-9d0f-4d60-bdd0-4cbcf3b233a6",
   "metadata": {},
   "outputs": [],
   "source": [
    "counts_random_by_unit_length = dict()\n",
    "for i in range(1,5):\n",
    "    counts_random_by_unit_length[i] = dict()\n",
    "for motif in random_counts['A'].columns[:-1]:\n",
    "    counts_random_by_unit_length[len(motif)][motif] = random_counts['A'][motif]\n",
    "for i in range(1,5):\n",
    "    counts_random_by_unit_length[i] = pd.concat(counts_random_by_unit_length[i], axis=1)\n",
    "    counts_random_by_unit_length[i]['all'] = counts_random_by_unit_length[i].sum(axis=1)"
   ]
  },
  {
   "cell_type": "code",
   "execution_count": null,
   "id": "f5fc4077-461c-468a-beea-6057333668fa",
   "metadata": {},
   "outputs": [],
   "source": [
    "# Fig. S1a (by nt)\n",
    "fig_starting_counts = go.Figure()\n",
    "legendnames = []\n",
    "for motif in CHM13_counts['A'].columns[:-1]:\n",
    "    fig_starting_counts.add_trace(go.Scatter(x = CHM13_counts['A'][motif].index * len(motif), y = CHM13_counts['A'][motif].replace(0, np.nan), name = 'unit length = '+str(len(motif)), text = motif, legendgroup = len(motif), showlegend = False if len(motif) in legendnames else True, line = dict(color = plotly.colors.DEFAULT_PLOTLY_COLORS[len(motif)-1]), mode = 'lines', opacity = 0.95/(1+0.5*len(motif))))\n",
    "    legendnames.append(len(motif))\n",
    "fig_starting_counts.update_xaxes(type = 'log', title = 'repeat length (nt)', range = [0,2.1], gridcolor = 'rgba(0,0,0,0.15)', gridwidth = 1)\n",
    "fig_starting_counts.update_yaxes(type = 'log', title = 'repeat counts', tickformat = '1.0e', dtick = 2, range = [0,10], gridcolor = 'rgba(0,0,0,0.15)', gridwidth = 1)\n",
    "fig_starting_counts.update_layout(font=dict(family = 'Arial', size = 14), legend = dict(yanchor=\"top\", y=0.99, xanchor=\"right\", x=1.2), height = 300, width = 580, margin={'t':40,'l':80,'b':40,'r':60}, )   \n",
    "fig_starting_counts.show()"
   ]
  },
  {
   "cell_type": "code",
   "execution_count": null,
   "id": "4482207c-d79d-4e3d-9c7c-3dc2a7985aed",
   "metadata": {},
   "outputs": [],
   "source": [
    "fig_starting_counts.write_image('plots/figS1a.svg')\n",
    "fig_starting_counts.write_image('plots/figS1a.pdf')"
   ]
  },
  {
   "cell_type": "code",
   "execution_count": null,
   "id": "4f62fe1d-adfd-4e5c-876e-0b77888a69cb",
   "metadata": {},
   "outputs": [],
   "source": [
    "# Fig. 1a\n",
    "fig_starting_counts = go.Figure()\n",
    "for i in range(1,5):\n",
    "    fig_starting_counts.add_trace(go.Scatter(x = counts_by_unit_length[i].index * i, y = counts_by_unit_length[i]['all'].replace(0,np.nan), connectgaps = True, legendgroup = i, name = 'unit length = '+str(i), line = dict(width = 4), mode = 'lines', opacity = 0.75))\n",
    "for i in range(1,5):\n",
    "    fig_starting_counts.add_trace(go.Scatter(x = counts_random_by_unit_length[i].index * i, y = counts_random_by_unit_length[i]['all'].replace(0,np.nan), connectgaps = True, legendgroup = i, showlegend = False, name = 'random, unit length = '+str(i), line = dict(width = 3, dash = '5'), mode = 'lines', opacity = 0.55))\n",
    "\n",
    "fig_starting_counts.update_xaxes(type = 'log', title = 'repeat length (nt)', range = [0,3], gridcolor = 'rgba(0,0,0,0.15)', gridwidth = 1)\n",
    "fig_starting_counts.update_yaxes(type = 'log', title = 'counts', tickformat = '1.0e', dtick = 2, gridcolor = 'rgba(0,0,0,0.15)', gridwidth = 1)\n",
    "fig_starting_counts.update_layout(font=dict(family = 'Arial', size = 16), legend = dict(yanchor=\"top\", y=0.99, xanchor=\"right\", x=0.99), height = 300, width = 500, margin={'t':40,'l':80,'b':40,'r':10}, colorway = plotly.colors.DEFAULT_PLOTLY_COLORS[:4])\n",
    "fig_starting_counts.show()"
   ]
  },
  {
   "cell_type": "code",
   "execution_count": null,
   "id": "e30229b0-b894-48cc-b1b1-f004973fbbbc",
   "metadata": {},
   "outputs": [],
   "source": [
    "fig_starting_counts.write_image('plots/fig1a.svg')\n",
    "fig_starting_counts.write_image('plots/fig1a.pdf')"
   ]
  },
  {
   "cell_type": "markdown",
   "id": "28ab797e-8caf-4027-911c-235711eb98ca",
   "metadata": {},
   "source": [
    "### bootstrap counting"
   ]
  },
  {
   "cell_type": "code",
   "execution_count": null,
   "id": "8438fdfb-e4f1-4265-87be-4f84db263710",
   "metadata": {},
   "outputs": [],
   "source": [
    "def count_genome_bootstrap(genome_file, genomes_path = 'genomes/', output_path = 'repeat_distributions/', output_name = False, repeat_list = repeats_1_4):\n",
    "    genome_counts = dict()\n",
    "    if output_name == False:\n",
    "        output_name = genome_file[:-3]\n",
    "    records = list(fastapy.parse(genomes_path+genome_file))\n",
    "    record_len = pd.Series([len(rec) for rec in records])\n",
    "    complete_nt = 0; record_sum = record_len.sum()\n",
    "    for record in records:\n",
    "        counter = 0\n",
    "        for chunk in re.findall('.{1,1000000}', record.seq):\n",
    "            if len(chunk) == 1000000:\n",
    "                genome_counts[record.id + '_' + str(counter)] = count_all_repeats_per_seq(chunk, repeat_list = repeat_list)\n",
    "                counter +=1\n",
    "        complete_nt += len(record)\n",
    "        print('\\r' + '                     finished ' + str(round((complete_nt* 100)/record_sum, 2))+ '%', end = '         ')\n",
    "    genome_counts = pd.concat(genome_counts)\n",
    "    genome_counts.to_pickle(output_path+output_name+'_bootstrap.pickle')"
   ]
  },
  {
   "cell_type": "code",
   "execution_count": null,
   "id": "d76a0b6c-dbba-4966-8b48-9ede1047abb5",
   "metadata": {},
   "outputs": [],
   "source": [
    "count_genome_bootstrap('hs1.fa.gz', output_name = 'CHM13_counts')"
   ]
  },
  {
   "cell_type": "code",
   "execution_count": null,
   "id": "70dec1e2-d8c5-477b-909f-534d5f96a377",
   "metadata": {},
   "outputs": [],
   "source": [
    "bootstrap_CHM13_counts = pd.read_pickle('repeat_distributions/CHM13_counts_bootstrap.pickle').sort_index()"
   ]
  },
  {
   "cell_type": "code",
   "execution_count": null,
   "id": "2a9cbe63-a5db-4633-b5e6-96684b92181e",
   "metadata": {},
   "outputs": [],
   "source": [
    "bootstrap_counts = dict()\n",
    "subindex = bootstrap_CHM13_counts['A'].index.get_level_values(0)\n",
    "bootstrap_counts = dict()\n",
    "for i in range(1000):\n",
    "    print('\\r' + str(i), end = '   ')\n",
    "    sample_ids = np.random.choice(subindex, 3117, replace=True)\n",
    "    bootstrap_main = bootstrap_CHM13_counts['A'].loc[list(sample_ids)].groupby(level=[1]).sum().replace(0, np.nan).dropna(how = 'all', axis=0)\n",
    "    remainder = np.random.choice(subindex, 1, replace=True)\n",
    "    remainder = bootstrap_CHM13_counts['A'].loc[sample_ids[0]].copy().replace(0, np.nan).dropna(how = 'all', axis=0)      # remove this later?\n",
    "    remainder = (remainder * (275501 / remainder.mul(remainder.index, axis=0).sum())).round()   # remove this later?\n",
    "    bootstrap_counts[i] = bootstrap_main.add(remainder, fill_value = 0)\n",
    "bootstrap_counts = pd.concat(bootstrap_counts, axis=1).sort_index()\n",
    "bootstrap_counts.to_pickle('repeat_distributions/bootstrap_counts_1000.pickle')"
   ]
  },
  {
   "cell_type": "code",
   "execution_count": null,
   "id": "54a20795-0792-4b79-8cab-4f337f344277",
   "metadata": {},
   "outputs": [],
   "source": [
    "bootstrap_counts = pd.read_pickle('repeat_distributions/bootstrap_counts_1000.pickle')"
   ]
  },
  {
   "cell_type": "markdown",
   "id": "bb1e0624-4581-4556-8910-aaa77a4f6491",
   "metadata": {},
   "source": [
    "### Mammalian genomes\n",
    "- download link: https://www.ncbi.nlm.nih.gov/datasets/genome/?taxon=40674&reference_only=true&typical_only=true&assembly_level=2:3&release_year=2019:2023\n",
    "- contains 213 genomes as of 5/2024 (includes human hg38)\n",
    "- retrieve two additional human genome assemblies: GCA_015074485.1_ASM1507448v1_genomic.fna, GCA_003112815.1_ASM311281v1_genomic.fna\n",
    "- to save space, recommended to download fasta files, uncompress .zip container file, then re-compress each fasta file using gzip"
   ]
  },
  {
   "cell_type": "code",
   "execution_count": null,
   "id": "070f4379-7673-42ca-b92d-bfa4483d09b5",
   "metadata": {},
   "outputs": [],
   "source": [
    "# note: replace file paths where necessary\n",
    "genomes_path_mammals = '../../non_human_genomes/mammalian_reference_genomes/compressed/'\n",
    "genomes = os.listdir(genomes_path_mammals)\n",
    "output_path_mammals = 'repeat_distributions/mammalian_reference_genomes/'"
   ]
  },
  {
   "cell_type": "code",
   "execution_count": null,
   "id": "eb82858e-a2d0-4cc8-bb93-c1afc4652795",
   "metadata": {},
   "outputs": [],
   "source": [
    "counter = 0\n",
    "for genome_file in genomes:\n",
    "    print(str(counter) + '/'+str(len(genomes)) + ': ' + genome_file[:-3])\n",
    "    if genome_file[:-3]+'.pickle' not in os.listdir(output_path_mammals):\n",
    "        count_genome(genome_file, genomes_path = genomes_path_mammals, output_path = output_path_mammals)\n",
    "    counter +=1"
   ]
  },
  {
   "cell_type": "markdown",
   "id": "82fe13d4-4e81-4e32-924b-e817fba19e5d",
   "metadata": {},
   "source": [
    "#### load distributions"
   ]
  },
  {
   "cell_type": "code",
   "execution_count": null,
   "id": "50b2b8a8-0505-4b25-b7fc-e9c9f0db5f48",
   "metadata": {},
   "outputs": [],
   "source": [
    "completed = [file for file in os.listdir('repeat_distributions/mammalian_reference_genomes/') if file.startswith('GCA')]\n",
    "len(completed), len(genomes)"
   ]
  },
  {
   "cell_type": "code",
   "execution_count": null,
   "id": "f1685817-63b8-4328-aaa5-bcc7b6743ab3",
   "metadata": {},
   "outputs": [],
   "source": [
    "counts_all = dict()\n",
    "for file in completed:\n",
    "    if file[:-15] not in counts_all.keys():\n",
    "        counts_all[file[:-15]] = pd.read_pickle('repeat_distributions/mammalian_reference_genomes/'+file)['A'].replace(0, np.nan).dropna(how = 'all')\n",
    "        if 'long' in counts_all[file[:-15]].index.get_level_values(0):\n",
    "            counts_all[file[:-15]] = counts_all[file[:-15]].loc['long']\n",
    "counts_all = pd.concat(counts_all)"
   ]
  },
  {
   "cell_type": "code",
   "execution_count": null,
   "id": "12757de4-2ccd-4a89-8231-eeedffff047c",
   "metadata": {},
   "outputs": [],
   "source": [
    "counts_all"
   ]
  },
  {
   "cell_type": "markdown",
   "id": "ae32c301-bed8-49ff-83bc-ca6ca76a8650",
   "metadata": {},
   "source": [
    "#### genome info\n",
    "- note: \"data_summary.tsv\" file included with download of multiple genome files from NCBI\n",
    "- in my experience, some info was missing and had to be filled in\n",
    "- download taxonomy file from: https://ftp.ncbi.nlm.nih.gov/pub/taxonomy/new_taxdump/new_taxdump.zip"
   ]
  },
  {
   "cell_type": "code",
   "execution_count": null,
   "id": "603855b6-5c17-46ed-a88b-06e4bf80763a",
   "metadata": {},
   "outputs": [],
   "source": [
    "genome_info = pd.read_csv('repeat_distributions/mammalian_reference_genomes/data_summary.tsv', sep = '\\t')\n",
    "# Fill in some missing data\n",
    "genome_info.loc[genome_info['Organism Common Name'].isna(), 'Organism Common Name'] = ['oldfield mouse', 'Masai giraffe', 'Nubian giraffe', 'South-central black rhinoceros', 'Marco Polo sheep (hybrid)', 'Indian elephant', 'Tibetan macaque', 'Fringe-lipped bat', 'Brazilian porcupine', 'Marco Polo sheep', 'Ground cuscus', 'East African Hippopotamus', 'Intermediate roundleaf bat', 'Eastern spiny mouse']\n",
    "\n",
    "genome_info['Assembly Name'] = genome_info['Assembly Name'].str.replace(' ', '_').str.replace('+', '_')\n",
    "genome_info.loc[129, 'Assembly Name'] = 'mEubGla1.1.hap2._XY'"
   ]
  },
  {
   "cell_type": "code",
   "execution_count": null,
   "id": "b93b91b6-dd98-4060-857d-9af23b00a3c7",
   "metadata": {},
   "outputs": [],
   "source": [
    "taxonomy = pd.read_csv('repeat_distributions/mammalian_reference_genomes/NCBI_taxonomy/rankedlineage.dmp', sep = '\\t', usecols = [0,2,6,8,10,12,14,16,18], header = None, low_memory=False)\n",
    "taxonomy.columns = ['tax_id', 'tax_name', 'genus', 'family', 'order', 'class', 'phylum', 'kingdom', 'superkingdom']\n",
    "taxonomy_present = taxonomy.set_index(['tax_id']).reindex(genome_info['Taxonomy id'])\n",
    "lineage = pd.read_csv('repeat_distributions/mammalian_reference_genomes/NCBI_taxonomy/taxidlineage.dmp', sep = '\\t', header = None, usecols = [0,2])\n",
    "lineage.columns = ['tax_id', 'lineage_ids']\n",
    "\n",
    "subgroup_list = pd.Series(['order', 'family', 'genus', 'tax_name'], index = ['class', 'order', 'family', 'genus'])"
   ]
  },
  {
   "cell_type": "code",
   "execution_count": null,
   "id": "2a65bd61-4031-40fd-97ae-dbc9737c1570",
   "metadata": {},
   "outputs": [],
   "source": [
    "genome_info_by_filename = genome_info.set_index(genome_info['Assembly Accession'] + '_' + genome_info['Assembly Name'])\n",
    "genome_info_by_filename = pd.concat([genome_info_by_filename, taxonomy_present.drop_duplicates().reindex(genome_info_by_filename['Taxonomy id']).set_index(genome_info_by_filename.index)], axis=1)\n",
    "genome_info_by_filename = genome_info_by_filename.reindex(counts_all.index.levels[0])"
   ]
  },
  {
   "cell_type": "code",
   "execution_count": null,
   "id": "9c7403eb-8d93-4937-b815-7a447dfae4ce",
   "metadata": {
    "scrolled": true
   },
   "outputs": [],
   "source": [
    "genome_info_by_filename[:40]"
   ]
  },
  {
   "cell_type": "markdown",
   "id": "e251730a-53c1-4e4b-8871-1d1d433c3bb9",
   "metadata": {},
   "source": [
    "#### Plots"
   ]
  },
  {
   "cell_type": "code",
   "execution_count": null,
   "id": "4f5bd335-bbfd-4184-863c-a5497ab2e6ea",
   "metadata": {},
   "outputs": [],
   "source": [
    "def plot_counts_grouped(motif = 'A', group_list = ['class'], select_list = ['Mammalia'], x_nt = True, show = False, cutoff_n = 30, show_median = 1):\n",
    "    fig_counts = go.Figure()\n",
    "    counter = 0\n",
    "    for group, select in zip(group_list, select_list):\n",
    "        current_set = genome_info_by_filename.loc[genome_info_by_filename[group] == select].copy()\n",
    "        current_group = current_set.index\n",
    "        current_counts = counts_all[motif].unstack().transpose().reindex(current_group, axis=1).replace(0, np.nan).dropna(how = 'all', axis=1).fillna(0)\n",
    "        #current_counts.columns = list(range(len(current_counts.columns)))\n",
    "        current_counts = current_counts[current_counts >1].fillna(1,limit=1, axis=0)\n",
    "        current_counts.loc[len(current_counts)+1] = np.nan\n",
    "        for col in current_counts:\n",
    "            current_col = current_counts[col].copy()\n",
    "            current_col = current_col.reindex(list(range(1, (current_col > cutoff_n).idxmin())))\n",
    "            current_col = current_col.div(current_col.sum())\n",
    "            fig_counts.add_trace(go.Scatter(x = current_col.index * len(motif) if x_nt == True else current_col.index, y = current_col, connectgaps = False, name = select, hovertemplate= 'L=%{x}, n=%{y}' + '<br>' + '<b>'+ current_set['Organism Common Name'].loc[col] + '</b><br>' + 'Order: ' + current_set['order'].loc[col] + '<br>' + 'Family: ' + current_set['family'].loc[col] + '<br>' + current_set['Organism Scientific Name'].loc[col] + '<br>' + \"<extra></extra>\", opacity = min(0.25, 15/len(current_set.index)), line = dict(color = plotly.colors.DEFAULT_PLOTLY_COLORS[counter], width = 1), legendgroup = counter, showlegend = False))\n",
    "        counter +=1\n",
    "    counter = 0\n",
    "    for group, select in zip(group_list, select_list):\n",
    "        current_set = genome_info_by_filename.loc[genome_info_by_filename[group] == select].copy()\n",
    "        current_group = current_set.index\n",
    "        current_counts = counts_all[motif].unstack().transpose().reindex(current_group, axis=1).replace(0, np.nan).dropna(how = 'all', axis=1).fillna(0)\n",
    "        current_counts = current_counts.reindex(list(range(1,1001)))\n",
    "#        current_counts = current_counts.reindex(list(range(1, current_counts.loc[current_counts>30].idxmin())))\n",
    "        current_med = (current_counts / current_counts.sum()).median(axis=1)\n",
    "        current_med = current_med.loc[current_med > 1e-9]\n",
    "        fig_counts.add_trace(go.Scatter(x = current_med.index * len(motif) if x_nt == True else current_med.index, y = current_med, connectgaps = True, opacity = show_median, name = select, line = dict(color = plotly.colors.DEFAULT_PLOTLY_COLORS[counter], width = 3), legendgroup = counter))\n",
    "        counter +=1\n",
    "    fig_counts.update_xaxes(type = 'log', title = 'repeat length (nt)' if x_nt == True else 'repeat length (units)', range = [0,3], gridcolor = 'rgba(0,0,0,0.15)', gridwidth = 1)\n",
    "    fig_counts.update_yaxes(type = 'log', tickformat = '1.0e', dtick = 2, title = 'frequency', gridcolor = 'rgba(0,0,0,0.15)', gridwidth = 1)   \n",
    "    fig_counts.update_layout(font=dict(family = 'Arial', size = 16), height = 300, width = 500, margin={'t':40,'l':80,'b':40,'r':10})        \n",
    "    if show == True:\n",
    "        fig_counts.show()\n",
    "    return fig_counts"
   ]
  },
  {
   "cell_type": "code",
   "execution_count": null,
   "id": "0edfa290-24e5-4673-abef-771d97697a21",
   "metadata": {},
   "outputs": [],
   "source": [
    "# Fig. 1b\n",
    "fig_grouped = plot_counts_grouped(cutoff_n = 30, group_list = ['class', 'order', 'family'], select_list = ['Mammalia', 'Primates', 'Hominidae'], show = False)\n",
    "fig_grouped.update_xaxes(range = [0,2.5])\n",
    "fig_grouped.update_layout(legend = dict(yanchor=\"top\", y=0.99, xanchor=\"right\", x=0.99))"
   ]
  },
  {
   "cell_type": "code",
   "execution_count": null,
   "id": "d7bcc9b6-90de-467a-a51d-2a5e5cc068f8",
   "metadata": {},
   "outputs": [],
   "source": [
    "fig_grouped.write_image('plots/fig1b.pdf')\n",
    "fig_grouped.write_image('plots/fig1b.svg')"
   ]
  },
  {
   "cell_type": "code",
   "execution_count": null,
   "id": "44fee519-8f65-4725-82f3-9f414dbbc562",
   "metadata": {},
   "outputs": [],
   "source": [
    "def plot_counts_grouped_multi(n_rows = 1, n_cols = 4, motif_list = repeats_1_4[:4], x_nt = True, group_list = ['class'], select_list = ['Mammalia'], chrom = 'only_CM', show = False, cutoff_n = 10\n",
    "                            , show_median = 1):\n",
    "    fig_counts = make_subplots(rows = n_rows, cols = n_cols, subplot_titles = motif_list, x_title = 'repeat length (nt)', y_title = 'frequency', vertical_spacing = 0.24 / n_rows, horizontal_spacing = 0.2 / n_cols, shared_xaxes = True, shared_yaxes = True)\n",
    "    row_counter = 1; col_counter = 0; legend_counter = 1\n",
    "    for motif in motif_list:\n",
    "        counter = 0; col_counter +=1\n",
    "        for group, select in zip(group_list, select_list):\n",
    "            current_set = genome_info_by_filename.loc[genome_info_by_filename[group] == select].copy()\n",
    "            current_group = current_set.index\n",
    "            current_counts = counts_all[motif].unstack().transpose().reindex(current_group, axis=1).replace(0, np.nan).dropna(how = 'all', axis=1).fillna(0)\n",
    "            current_counts = current_counts[current_counts >1].fillna(1,limit=1, axis=0)\n",
    "            current_counts.loc[len(current_counts)+1] = np.nan\n",
    "            for col in current_counts:\n",
    "                current_col = current_counts[col].copy()\n",
    "                current_col = current_col.reindex(list(range(1, (current_col > cutoff_n).idxmin())))\n",
    "                current_col = current_col.div(current_col.sum())\n",
    "                fig_counts.add_trace(go.Scatter(x = current_col.index * len(motif) if x_nt == True else current_col.index, y = current_col, connectgaps = False, name = select, hovertemplate= 'L=%{x}, n=%{y}' + '<br>' + '<b>'+ current_set['Organism Common Name'].loc[col] + '</b><br>' + 'Order: ' + current_set['order'].loc[col] + '<br>' + 'Family: ' + current_set['family'].loc[col] + '<br>' + current_set['Organism Scientific Name'].loc[col] + '<br>' + \"<extra></extra>\", opacity = min(0.25, 15/len(current_set.index)), mode = 'lines', line = dict(color = plotly.colors.DEFAULT_PLOTLY_COLORS[counter], width = 0.5), legendgroup = counter, showlegend = False), row = row_counter, col = col_counter)\n",
    "            counter +=1\n",
    "        legend_counter +=1\n",
    "        if col_counter == n_cols:\n",
    "            col_counter -= n_cols; row_counter +=1\n",
    "    row_counter = 1; col_counter = 0; legend_counter = 1\n",
    "    for motif in motif_list:\n",
    "        counter = 0; col_counter +=1\n",
    "        for group, select in zip(group_list, select_list):\n",
    "            current_set = genome_info_by_filename.loc[genome_info_by_filename[group] == select].copy()\n",
    "            current_group = current_set.index\n",
    "            current_counts = counts_all[motif].unstack().transpose().reindex(current_group, axis=1).replace(0, np.nan).dropna(how = 'all', axis=1).fillna(0)\n",
    "            current_counts = current_counts.reindex(list(range(1,1001)))\n",
    "            current_med = (current_counts / current_counts.sum()).median(axis=1)\n",
    "            current_med = current_med.loc[current_med > 1e-9]\n",
    "            fig_counts.add_trace(go.Scatter(x = current_med.index * len(motif) if x_nt == True else current_med.index, y = current_med, connectgaps = True, opacity = show_median, name = select, mode = 'lines', line = dict(color = plotly.colors.DEFAULT_PLOTLY_COLORS[counter], width = 1.5), legendgroup = counter, showlegend = False), row = row_counter, col = col_counter)\n",
    "            counter +=1\n",
    "        legend_counter +=1\n",
    "        if col_counter == n_cols:\n",
    "            col_counter -= n_cols; row_counter +=1   \n",
    "    fig_counts.update_xaxes(type = 'log', range = [0,2.5], dtick = 1, gridcolor = 'rgba(0,0,0,0.15)', gridwidth = 1)\n",
    "    fig_counts.update_yaxes(type = 'log', range = [-10,0], tickformat = '1.0e', dtick = 3, gridcolor = 'rgba(0,0,0,0.15)', gridwidth = 1)\n",
    "    fig_counts.update_layout(font=dict(family = 'Helvetica', size = 12), height = 180 * n_rows, width = 220 * n_cols, margin={'t':40,'l':60,'b':55,'r':30})        \n",
    "    if show == True:\n",
    "        fig_counts.show()\n",
    "    return fig_counts"
   ]
  },
  {
   "cell_type": "code",
   "execution_count": null,
   "id": "d854038e-1ed5-4442-94f5-886aec2bc937",
   "metadata": {},
   "outputs": [],
   "source": [
    "fig_grouped = plot_counts_grouped_multi(group_list = ['class', 'order', 'family'], select_list = ['Mammalia', 'Primates', 'Hominidae'], show = True)"
   ]
  },
  {
   "cell_type": "code",
   "execution_count": null,
   "id": "f5b83864-b48f-4e4b-bece-39996db418d6",
   "metadata": {},
   "outputs": [],
   "source": [
    "# Fig S2\n",
    "for n in range(len(repeats_1_4[::4])):\n",
    "    print(n, end = ' ')\n",
    "    current_list = repeats_1_4[n*4:n*4+4]\n",
    "    fig_grouped = plot_counts_grouped_multi(motif_list = current_list, group_list = ['class', 'order', 'family'], select_list = ['Mammalia', 'Primates', 'Hominidae'], show = False)\n",
    "    fig_grouped.update_layout(legend=dict(orientation = 'h', yanchor='bottom', y=-0.1, xanchor='right', x=1.04))\n",
    "    fig_grouped.write_image('plots/fig_S2_'+str(n)+'.pdf')"
   ]
  },
  {
   "cell_type": "markdown",
   "id": "0b69200c-886a-41cd-95c5-fdf061f2551b",
   "metadata": {},
   "source": [
    "#### Human genome assemblies"
   ]
  },
  {
   "cell_type": "code",
   "execution_count": null,
   "id": "b573adfc-5a3d-4b73-a1be-ddb3c5cab0e2",
   "metadata": {},
   "outputs": [],
   "source": [
    "genome_info = pd.read_csv('repeat_distributions/mammalian_reference_genomes/data_summary.tsv', sep = '\\t')\n",
    "# Fill in some missing data\n",
    "genome_info.loc[genome_info['Organism Common Name'].isna(), 'Organism Common Name'] = ['oldfield mouse', 'Masai giraffe', 'Nubian giraffe', 'South-central black rhinoceros', 'Marco Polo sheep (hybrid)', 'Indian elephant', 'Tibetan macaque', 'Fringe-lipped bat', 'Brazilian porcupine', 'Marco Polo sheep', 'Ground cuscus', 'East African Hippopotamus', 'Intermediate roundleaf bat', 'Eastern spiny mouse']\n",
    "genome_info['Assembly Name'] = genome_info['Assembly Name'].str.replace(' ', '_').str.replace('+', '_')\n",
    "genome_info.loc[129, 'Assembly Name'] = 'mEubGla1.1.hap2._XY'\n",
    "genome_info_by_filename = genome_info.set_index(genome_info['Assembly Accession'] + '_' + genome_info['Assembly Name'])\n",
    "genome_info_by_filename = pd.concat([genome_info_by_filename, taxonomy_present.drop_duplicates().reindex(genome_info_by_filename['Taxonomy id']).set_index(genome_info_by_filename.index)], axis=1)\n",
    "# add in info for human genome assemblies\n",
    "for col in ['Organism Scientific Name', 'Taxonomy id', 'tax_name', 'genus', 'family', 'order', 'class', 'phylum', 'kingdom', 'superkingdom']:\n",
    "    genome_info_by_filename.loc['GCA_015074485.1_ASM1507448v1', col] = genome_info_by_filename.loc['GCA_000001405.29_GRCh38.p14', col]\n",
    "    genome_info_by_filename.loc['GCA_003112815.1_ASM311281v1', col] = genome_info_by_filename.loc['GCA_000001405.29_GRCh38.p14', col]\n",
    "\n",
    "genome_info_by_filename.loc['GCA_000001405.29_GRCh38.p14', 'Organism Common Name'] = 'GRCH38'\n",
    "genome_info_by_filename.loc['GCA_015074485.1_ASM1507448v1', 'Organism Common Name'] = 'short read (NovaSeq)'\n",
    "genome_info_by_filename.loc['GCA_003112815.1_ASM311281v1', 'Organism Common Name'] = 'short read (HiSeq)'\n",
    "\n",
    "genome_info_by_filename.loc['GCA_015074485.1_ASM1507448v1', 'Assembly Name'] = 'ASM1507448v1'\n",
    "genome_info_by_filename.loc['GCA_003112815.1_ASM311281v1', 'Assembly Name'] = 'ASM311281v1'\n",
    "\n",
    "genome_info_by_filename.loc['GCA_015074485.1_ASM1507448v1', 'Assembly Accession'] = 'GCA_015074485.1'\n",
    "genome_info_by_filename.loc['GCA_003112815.1_ASM311281v1', 'Assembly Accession'] = 'GCA_003112815.1'\n",
    "\n",
    "genome_info_by_filename['species'] = genome_info_by_filename['tax_name'].str.split(' ', expand = True)[1]\n",
    "genome_info_by_filename = genome_info_by_filename.reindex(counts_all.index.levels[0])"
   ]
  },
  {
   "cell_type": "code",
   "execution_count": null,
   "id": "075bc70c-1b43-488f-879e-ccc424c07f40",
   "metadata": {},
   "outputs": [],
   "source": [
    "# Fig. S1c\n",
    "current_set = genome_info_by_filename.loc[genome_info_by_filename['genus'] == 'Homo']\n",
    "opacity = 0.8\n",
    "fig_counts = make_subplots(rows = 4, cols = 3, subplot_titles = ['A', 'C', 'AC', 'AT', 'AG', 'CG', 'AAC', 'AAG', 'AAT', 'CCG', 'AGC', 'AGG'], x_title = 'repeat length (nt)', y_title = 'repeat counts (normalized)', vertical_spacing = 0.06, horizontal_spacing = 0.05, shared_xaxes = True, shared_yaxes = True)\n",
    "row_counter = 1; col_counter = 0; legend_counter = 0\n",
    "for seq in ['A', 'C', 'AC', 'AT', 'AG', 'CG', 'AAC', 'AAG', 'AAT', 'CCG', 'AGC', 'AGG']:\n",
    "    col_counter +=1; legend_counter +=1\n",
    "    current = CHM13_counts['A'][seq] / (CHM13_counts['A'][seq].index * CHM13_counts['A'][seq]).sum()\n",
    "    current = current.loc[current > 1e-10]\n",
    "    fig_counts.add_trace(go.Scatter(x = current.index * len(seq), y = current, name = 'T2T-CHM13', hovertemplate= 'L=%{x}, n=%{y}' + '<br>' + '<b>'+ 'T2T-CHM13' + '</b><br>' + 'Order: ' + current_set['order'].loc['GCA_000001405.29_GRCh38.p14'] + '<br>' + 'Family: ' + current_set['family'].loc['GCA_000001405.29_GRCh38.p14'] + '<br>' + current_set['Organism Scientific Name'].loc['GCA_000001405.29_GRCh38.p14'] + ' (T2T)' + '<br>' + \"<extra></extra>\", mode = 'lines', legendgroup = 'T2T', showlegend = True if legend_counter == 1 else False, opacity = opacity), row = row_counter, col = col_counter)\n",
    "    for file in current_set.index:\n",
    "        current = counts_all[seq].loc[file].replace(0, np.nan).dropna().fillna(0)\n",
    "        current = current / current.sum()\n",
    "        current = current.loc[current > 1e-10]\n",
    "        fig_counts.add_trace(go.Scatter(x = current.index * len(seq), y = current, name = current_set['Organism Common Name'].loc[file], hovertemplate= 'L=%{x}, n=%{y}' + '<br>' + '<b>' + current_set['Organism Common Name'].loc[file] + '</b><br>' + 'Order: ' + current_set['order'].loc[file] + '<br>' + 'Family: ' + current_set['family'].loc[file] + '<br>' + current_set['Organism Scientific Name'].loc[file] + '<br>' + \"<extra></extra>\", mode = 'lines', legendgroup = file,  showlegend = True if legend_counter == 1 else False, opacity = opacity), row = row_counter, col = col_counter)\n",
    "    if col_counter == 3:\n",
    "        col_counter -= 3; row_counter +=1\n",
    "fig_counts.update_xaxes(type = 'log', range = [0,2], gridcolor = 'rgba(0,0,0,0.15)', gridwidth = 1)\n",
    "fig_counts.update_yaxes(type = 'log', range = [-10,0], tickformat = '1.0e', dtick = 3, gridcolor = 'rgba(0,0,0,0.15)', gridwidth = 1)\n",
    "fig_counts.update_layout(font=dict(family = 'Helvetica', size = 14), colorway = plotly.colors.DEFAULT_PLOTLY_COLORS[:4], margin={'t':40,'l':60,'b':60,'r':10}, width = 800, height = 600)        \n",
    "fig_counts.show()"
   ]
  },
  {
   "cell_type": "code",
   "execution_count": null,
   "id": "25c67bc9-a753-432a-a41b-b74b3a0d7540",
   "metadata": {},
   "outputs": [],
   "source": [
    "fig_counts.write_image('plots/figS1b.svg')\n",
    "fig_counts.write_image('plots/figS1b.pdf')"
   ]
  },
  {
   "cell_type": "markdown",
   "id": "14635a52-e4b3-4bdd-ab60-a08d3e196735",
   "metadata": {},
   "source": [
    "## Supplementary Data File SF1"
   ]
  },
  {
   "cell_type": "code",
   "execution_count": null,
   "id": "30f77ae0-3b96-478a-81f2-4f8d30519f1d",
   "metadata": {},
   "outputs": [],
   "source": [
    "counts_SF1 = dict()\n",
    "for file in completed:\n",
    "    if file[:-15] not in counts_SF1.keys():\n",
    "        counts_SF1[file[:-15]] = pd.read_pickle('repeat_distributions/mammalian_reference_genomes/'+file)['A'].replace(0, np.nan).dropna(how = 'all')\n",
    "        if 'long' in counts_SF1[file[:-15]].index.get_level_values(0):\n",
    "            counts_SF1[file[:-15]] = counts_SF1[file[:-15]].loc['long']\n",
    "counts_SF1['T2T-CHM13'] = CHM13_counts['A'][repeats_1_4].replace(0, np.nan).dropna(how = 'all')\n",
    "counts_SF1 = pd.concat(counts_SF1, axis=1).sort_index().dropna(how = 'all', axis=1).fillna(0).astype(int).reindex(range(1,501))"
   ]
  },
  {
   "cell_type": "code",
   "execution_count": null,
   "id": "603c5d5a-df8b-4c73-b4c7-1897def1acc6",
   "metadata": {},
   "outputs": [],
   "source": [
    "counts_SF1"
   ]
  },
  {
   "cell_type": "code",
   "execution_count": null,
   "id": "61c9a0ac-4b67-45b8-baf2-73d503a73bfb",
   "metadata": {},
   "outputs": [],
   "source": [
    "counts_SF1.to_csv('repeat_distributions/SF1_mammalian_repeat_length_counts.csv')"
   ]
  },
  {
   "cell_type": "code",
   "execution_count": null,
   "id": "4c000d04-afbc-4447-b4c7-6db39fb6ebd7",
   "metadata": {},
   "outputs": [],
   "source": []
  }
 ],
 "metadata": {
  "kernelspec": {
   "display_name": "Python 3 (ipykernel)",
   "language": "python",
   "name": "python3"
  },
  "language_info": {
   "codemirror_mode": {
    "name": "ipython",
    "version": 3
   },
   "file_extension": ".py",
   "mimetype": "text/x-python",
   "name": "python",
   "nbconvert_exporter": "python",
   "pygments_lexer": "ipython3",
   "version": "3.10.14"
  },
  "toc": {
   "base_numbering": 1,
   "nav_menu": {},
   "number_sections": false,
   "sideBar": true,
   "skip_h1_title": false,
   "title_cell": "Table of Contents",
   "title_sidebar": "Contents",
   "toc_cell": true,
   "toc_position": {},
   "toc_section_display": true,
   "toc_window_display": false
  },
  "varInspector": {
   "cols": {
    "lenName": 16,
    "lenType": 16,
    "lenVar": 40
   },
   "kernels_config": {
    "python": {
     "delete_cmd_postfix": "",
     "delete_cmd_prefix": "del ",
     "library": "var_list.py",
     "varRefreshCmd": "print(var_dic_list())"
    },
    "r": {
     "delete_cmd_postfix": ") ",
     "delete_cmd_prefix": "rm(",
     "library": "var_list.r",
     "varRefreshCmd": "cat(var_dic_list()) "
    }
   },
   "types_to_exclude": [
    "module",
    "function",
    "builtin_function_or_method",
    "instance",
    "_Feature"
   ],
   "window_display": false
  }
 },
 "nbformat": 4,
 "nbformat_minor": 5
}
